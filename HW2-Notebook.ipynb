{
 "cells": [
  {
   "cell_type": "code",
   "execution_count": 1,
   "id": "a8d3f1ec",
   "metadata": {},
   "outputs": [],
   "source": [
    "import numpy as np\n",
    "import time\n",
    "import random\n",
    "import matplotlib.pyplot as plt"
   ]
  },
  {
   "cell_type": "code",
   "execution_count": 2,
   "id": "79596d93",
   "metadata": {},
   "outputs": [],
   "source": [
    "def triangle(G):\n",
    "    n = len(G)\n",
    "\n",
    "    for u in range(n):\n",
    "        for v in range(n):\n",
    "            if u != v and G[u][v] == 1:\n",
    "                for w in range(n):\n",
    "                    if w != u and w != v:\n",
    "                        if G[u][w] == 1 and G[v][w] == 1:\n",
    "                            return True\n",
    "    return False"
   ]
  }
 ],
 "metadata": {
  "kernelspec": {
   "display_name": "base",
   "language": "python",
   "name": "python3"
  },
  "language_info": {
   "codemirror_mode": {
    "name": "ipython",
    "version": 3
   },
   "file_extension": ".py",
   "mimetype": "text/x-python",
   "name": "python",
   "nbconvert_exporter": "python",
   "pygments_lexer": "ipython3",
   "version": "3.12.7"
  }
 },
 "nbformat": 4,
 "nbformat_minor": 5
}
